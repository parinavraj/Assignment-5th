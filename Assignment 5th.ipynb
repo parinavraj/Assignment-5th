{
 "cells": [
  {
   "cell_type": "markdown",
   "id": "83edd953",
   "metadata": {},
   "source": [
    "# Assignment 5th"
   ]
  },
  {
   "cell_type": "markdown",
   "id": "ec44d690-ae46-49bb-8cea-487ee297de7b",
   "metadata": {},
   "source": [
    "Q1. What does an empty dictionary's code look like?"
   ]
  },
  {
   "cell_type": "raw",
   "id": "61c5b7e2-c5ab-4bf7-bb28-f5216c3dde4b",
   "metadata": {},
   "source": [
    "Ans :- empty dictionary's code look like :- dict{} , or dict()"
   ]
  },
  {
   "cell_type": "markdown",
   "id": "d4702041-fa1d-4d57-933f-8df8a3684d91",
   "metadata": {},
   "source": [
    "Q2.what is the value of dictionary value with key 'foo' and the value 42 ?"
   ]
  },
  {
   "cell_type": "code",
   "execution_count": 1,
   "id": "b82cca95-178d-494f-9452-3d6f3f5d14fc",
   "metadata": {},
   "outputs": [
    {
     "name": "stdout",
     "output_type": "stream",
     "text": [
      "{'foo : 42'}\n"
     ]
    }
   ],
   "source": [
    "dict = {\"foo : 42\"}\n",
    "print(dict)"
   ]
  },
  {
   "cell_type": "markdown",
   "id": "1fe81feb-481a-48b2-87f0-60b06a3a3ef6",
   "metadata": {},
   "source": [
    "Q3. What is the most significant distinction between a dictionary and a list?"
   ]
  },
  {
   "cell_type": "raw",
   "id": "6306617b-3e55-4a2c-9f1a-43ffab5bdff9",
   "metadata": {},
   "source": [
    "Ans :- Dictionaries are represented by {} where as listed are represented by []\n",
    "A dictionary refers to a hashed structure of various pairs of keys and values.while A list refers to a collection of various index value pairs"
   ]
  },
  {
   "cell_type": "markdown",
   "id": "4169efc5-1515-4a02-8a72-758377f6605a",
   "metadata": {},
   "source": [
    "Q4. What happens if you try to access spam['foo'] if spam is {'bar': 100}?"
   ]
  },
  {
   "cell_type": "code",
   "execution_count": 2,
   "id": "4d198840-9a3f-4604-8d4d-ee05a9b8bb45",
   "metadata": {},
   "outputs": [
    {
     "name": "stdout",
     "output_type": "stream",
     "text": [
      "{'bar': 100}\n"
     ]
    },
    {
     "ename": "KeyError",
     "evalue": "'foo'",
     "output_type": "error",
     "traceback": [
      "\u001b[1;31m---------------------------------------------------------------------------\u001b[0m",
      "\u001b[1;31mKeyError\u001b[0m                                  Traceback (most recent call last)",
      "\u001b[1;32m~\\AppData\\Local\\Temp/ipykernel_9076/1096591415.py\u001b[0m in \u001b[0;36m<module>\u001b[1;34m\u001b[0m\n\u001b[0;32m      1\u001b[0m \u001b[0mspam\u001b[0m \u001b[1;33m=\u001b[0m \u001b[1;33m{\u001b[0m\u001b[1;34m'bar'\u001b[0m \u001b[1;33m:\u001b[0m \u001b[1;36m100\u001b[0m\u001b[1;33m}\u001b[0m\u001b[1;33m\u001b[0m\u001b[1;33m\u001b[0m\u001b[0m\n\u001b[0;32m      2\u001b[0m \u001b[0mprint\u001b[0m\u001b[1;33m(\u001b[0m\u001b[0mspam\u001b[0m\u001b[1;33m)\u001b[0m\u001b[1;33m\u001b[0m\u001b[1;33m\u001b[0m\u001b[0m\n\u001b[1;32m----> 3\u001b[1;33m \u001b[0mspam\u001b[0m\u001b[1;33m[\u001b[0m\u001b[1;34m'foo'\u001b[0m\u001b[1;33m]\u001b[0m\u001b[1;33m\u001b[0m\u001b[1;33m\u001b[0m\u001b[0m\n\u001b[0m",
      "\u001b[1;31mKeyError\u001b[0m: 'foo'"
     ]
    }
   ],
   "source": [
    "spam = {'bar' : 100}\n",
    "print(spam)\n",
    "spam['foo']"
   ]
  },
  {
   "cell_type": "markdown",
   "id": "78ac1b54-21d5-4e3a-bea4-3e90c42e196c",
   "metadata": {},
   "source": [
    "Q5. If a dictionary is stored in spam, what is the difference between the expressions 'cat' in spam and 'cat' in spam.keys()?"
   ]
  },
  {
   "cell_type": "raw",
   "id": "f58c63f0-253b-4ae3-9344-aa6ac4b1af1e",
   "metadata": {},
   "source": [
    "Ans :- There is no difference . The operator checks whether a value exits as a key in the dictionary or not"
   ]
  },
  {
   "cell_type": "markdown",
   "id": "d6ce37b1-fe5d-4058-a7ab-ece04bf9b330",
   "metadata": {},
   "source": [
    "Q6. If a dictionary is stored in spam, what is the difference between the expressions 'cat' in spam and 'cat' in spam.values()?"
   ]
  },
  {
   "cell_type": "raw",
   "id": "15a3ce5f-9cb6-41ca-b9ba-783c02fbbd95",
   "metadata": {},
   "source": [
    "Ans :- 'cat' in spam checks whether there is a 'cat' key in the dictionary, while 'cat' in spam. values() checks whether there is a value 'cat' for one of the keys in spam ."
   ]
  },
  {
   "cell_type": "markdown",
   "id": "08a5e263-a0db-48b6-a3a9-456928794afa",
   "metadata": {},
   "source": [
    "Q7. What is a shortcut for the following code?"
   ]
  },
  {
   "cell_type": "markdown",
   "id": "f1e4191e-7dc4-44e3-9512-3bf2cd554ecd",
   "metadata": {},
   "source": [
    "if 'color' not in spam:"
   ]
  },
  {
   "cell_type": "markdown",
   "id": "76335501-985e-4e3a-bcd3-75deb3e9f730",
   "metadata": {},
   "source": [
    "spam['color'] = 'black'"
   ]
  },
  {
   "cell_type": "code",
   "execution_count": 3,
   "id": "91cf3410-1b97-4969-9ffb-70b93ee1f6d5",
   "metadata": {},
   "outputs": [
    {
     "data": {
      "text/plain": [
       "'black'"
      ]
     },
     "execution_count": 3,
     "metadata": {},
     "output_type": "execute_result"
    }
   ],
   "source": [
    "spam.setdefault('color','black')"
   ]
  },
  {
   "cell_type": "markdown",
   "id": "c94a8207-c257-49d2-b6c6-aff4159b6fff",
   "metadata": {},
   "source": [
    "Q8. How do you \"pretty print\" dictionary values using which module and function?"
   ]
  },
  {
   "cell_type": "raw",
   "id": "f443b076-a6b6-45e9-8969-9f2b4018a6dd",
   "metadata": {},
   "source": [
    "Ans :- The module is pprint.\n",
    "The functions are pprint.pprint() and pprint.pformat()."
   ]
  },
  {
   "cell_type": "code",
   "execution_count": null,
   "id": "81a7c080-739b-4e34-9931-69b99557806f",
   "metadata": {},
   "outputs": [],
   "source": []
  }
 ],
 "metadata": {
  "kernelspec": {
   "display_name": "Python 3 (ipykernel)",
   "language": "python",
   "name": "python3"
  },
  "language_info": {
   "codemirror_mode": {
    "name": "ipython",
    "version": 3
   },
   "file_extension": ".py",
   "mimetype": "text/x-python",
   "name": "python",
   "nbconvert_exporter": "python",
   "pygments_lexer": "ipython3",
   "version": "3.9.7"
  }
 },
 "nbformat": 4,
 "nbformat_minor": 5
}
